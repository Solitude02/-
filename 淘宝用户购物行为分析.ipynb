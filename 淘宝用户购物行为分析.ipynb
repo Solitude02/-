{
 "cells": [
  {
   "cell_type": "code",
   "execution_count": 1,
   "metadata": {},
   "outputs": [
    {
     "name": "stdout",
     "output_type": "stream",
     "text": [
      "Defaulting to user installation because normal site-packages is not writeable\n",
      "Looking in indexes: https://mirrors.aliyun.com/pypi/simple/\n",
      "Requirement already satisfied: pyecharts==0.1.9.4 in /home/admin/.local/lib/python3.6/site-packages (0.1.9.4)\n",
      "Requirement already satisfied: pillow in /home/admin/.local/lib/python3.6/site-packages (from pyecharts==0.1.9.4) (8.0.1)\n",
      "Requirement already satisfied: jinja2 in /home/admin/.local/lib/python3.6/site-packages (from pyecharts==0.1.9.4) (2.11.2)\n",
      "Requirement already satisfied: future in /home/admin/.local/lib/python3.6/site-packages (from pyecharts==0.1.9.4) (0.18.2)\n",
      "Requirement already satisfied: MarkupSafe>=0.23 in /home/admin/.local/lib/python3.6/site-packages (from jinja2->pyecharts==0.1.9.4) (1.1.1)\n",
      "\u001b[33mWARNING: You are using pip version 20.2.4; however, version 21.3.1 is available.\n",
      "You should consider upgrading via the '/usr/bin/python -m pip install --upgrade pip' command.\u001b[0m\n"
     ]
    }
   ],
   "source": [
    "# 安装pyecharts\n",
    "# !pip install pyecharts==0.1.9.4 -i \"https://mirrors.aliyun.com/pypi/simple/\""
   ]
  },
  {
   "cell_type": "code",
   "execution_count": 3,
   "metadata": {},
   "outputs": [],
   "source": [
    "#引入出具分析库\n",
    "\n",
    "import pandas as pd\n",
    "import numpy as np\n",
    "from matplotlib import pyplot as plt\n",
    "import time"
   ]
  },
  {
   "cell_type": "code",
   "execution_count": 3,
   "metadata": {},
   "outputs": [],
   "source": [
    "# # 解压\n",
    "# # 下载并解压核心代码及数据文件\n",
    "# print(\"开始解压\")\n",
    "# # 压缩包名字需要带后缀，如：data.zip\n",
    "# !unzip -o -q UserBehavior.csv.zip\n",
    "# print(\"解压成功，可以开始学习啦～\")\n",
    "# print(\"解压好的数据会在 download目录下\")"
   ]
  },
  {
   "cell_type": "markdown",
   "metadata": {},
   "source": [
    "### 数据预处理"
   ]
  },
  {
   "cell_type": "markdown",
   "metadata": {},
   "source": [
    "本项目的数据集为天池阿里公开数据集User behavior data from Taobao for recommendation。实验过程中由于数据量大，运行速度慢，只取前1000000行的用户行为数据进行研究。"
   ]
  },
  {
   "cell_type": "code",
   "execution_count": 4,
   "metadata": {},
   "outputs": [
    {
     "data": {
      "text/html": [
       "<div>\n",
       "<style scoped>\n",
       "    .dataframe tbody tr th:only-of-type {\n",
       "        vertical-align: middle;\n",
       "    }\n",
       "\n",
       "    .dataframe tbody tr th {\n",
       "        vertical-align: top;\n",
       "    }\n",
       "\n",
       "    .dataframe thead th {\n",
       "        text-align: right;\n",
       "    }\n",
       "</style>\n",
       "<table border=\"1\" class=\"dataframe\">\n",
       "  <thead>\n",
       "    <tr style=\"text-align: right;\">\n",
       "      <th></th>\n",
       "      <th>用户ID</th>\n",
       "      <th>商品ID</th>\n",
       "      <th>商品类目ID</th>\n",
       "      <th>行为类型</th>\n",
       "      <th>时间戳</th>\n",
       "    </tr>\n",
       "  </thead>\n",
       "  <tbody>\n",
       "    <tr>\n",
       "      <th>0</th>\n",
       "      <td>0</td>\n",
       "      <td>1</td>\n",
       "      <td>2</td>\n",
       "      <td>3</td>\n",
       "      <td>4</td>\n",
       "    </tr>\n",
       "    <tr>\n",
       "      <th>1</th>\n",
       "      <td>1</td>\n",
       "      <td>2268318</td>\n",
       "      <td>2520377</td>\n",
       "      <td>pv</td>\n",
       "      <td>1511544070</td>\n",
       "    </tr>\n",
       "    <tr>\n",
       "      <th>2</th>\n",
       "      <td>1</td>\n",
       "      <td>2333346</td>\n",
       "      <td>2520771</td>\n",
       "      <td>pv</td>\n",
       "      <td>1511561733</td>\n",
       "    </tr>\n",
       "    <tr>\n",
       "      <th>3</th>\n",
       "      <td>1</td>\n",
       "      <td>2576651</td>\n",
       "      <td>149192</td>\n",
       "      <td>pv</td>\n",
       "      <td>1511572885</td>\n",
       "    </tr>\n",
       "    <tr>\n",
       "      <th>4</th>\n",
       "      <td>1</td>\n",
       "      <td>3830808</td>\n",
       "      <td>4181361</td>\n",
       "      <td>pv</td>\n",
       "      <td>1511593493</td>\n",
       "    </tr>\n",
       "  </tbody>\n",
       "</table>\n",
       "</div>"
      ],
      "text/plain": [
       "   用户ID     商品ID   商品类目ID 行为类型         时间戳\n",
       "0     0        1        2    3           4\n",
       "1     1  2268318  2520377   pv  1511544070\n",
       "2     1  2333346  2520771   pv  1511561733\n",
       "3     1  2576651   149192   pv  1511572885\n",
       "4     1  3830808  4181361   pv  1511593493"
      ]
     },
     "execution_count": 4,
     "metadata": {},
     "output_type": "execute_result"
    }
   ],
   "source": [
    "# 数据读取\n",
    "\n",
    "file_path =r\"./data_1000000.csv\"\n",
    "data=pd.read_csv(file_path,header=None,index_col=None)\n",
    "data.columns = ['用户ID','商品ID','商品类目ID','行为类型','时间戳']\n",
    "data.head()"
   ]
  },
  {
   "cell_type": "code",
   "execution_count": 5,
   "metadata": {},
   "outputs": [
    {
     "name": "stdout",
     "output_type": "stream",
     "text": [
      "<class 'pandas.core.frame.DataFrame'>\n",
      "RangeIndex: 1000001 entries, 0 to 1000000\n",
      "Data columns (total 5 columns):\n",
      " #   Column  Non-Null Count    Dtype \n",
      "---  ------  --------------    ----- \n",
      " 0   用户ID    1000001 non-null  int64 \n",
      " 1   商品ID    1000001 non-null  int64 \n",
      " 2   商品类目ID  1000001 non-null  int64 \n",
      " 3   行为类型    1000001 non-null  object\n",
      " 4   时间戳     1000001 non-null  int64 \n",
      "dtypes: int64(4), object(1)\n",
      "memory usage: 38.1+ MB\n"
     ]
    },
    {
     "data": {
      "text/plain": [
       "用户ID      0\n",
       "商品ID      0\n",
       "商品类目ID    0\n",
       "行为类型      0\n",
       "时间戳       0\n",
       "dtype: int64"
      ]
     },
     "execution_count": 5,
     "metadata": {},
     "output_type": "execute_result"
    }
   ],
   "source": [
    "# 一、数据读取和数据清洗\n",
    "# 1.检查空值 ---检查结果数据无空值\n",
    "data.info()\n",
    "data.isnull().sum()"
   ]
  },
  {
   "cell_type": "code",
   "execution_count": 6,
   "metadata": {},
   "outputs": [
    {
     "name": "stdout",
     "output_type": "stream",
     "text": [
      "Empty DataFrame\n",
      "Columns: [用户ID, 商品ID, 商品类目ID, 行为类型, 时间戳]\n",
      "Index: []\n",
      "pv      896106\n",
      "cart     55447\n",
      "fav      28088\n",
      "buy      20359\n",
      "3            1\n",
      "Name: 行为类型, dtype: int64\n",
      "Empty DataFrame\n",
      "Columns: [用户ID, 商品ID, 商品类目ID, 行为类型, 时间戳]\n",
      "Index: []\n",
      "pv      896106\n",
      "cart     55447\n",
      "fav      28088\n",
      "buy      20359\n",
      "Name: 行为类型, dtype: int64\n",
      "<class 'pandas.core.frame.DataFrame'>\n",
      "Int64Index: 1000000 entries, 1 to 1000000\n",
      "Data columns (total 5 columns):\n",
      " #   Column  Non-Null Count    Dtype \n",
      "---  ------  --------------    ----- \n",
      " 0   用户ID    1000000 non-null  int64 \n",
      " 1   商品ID    1000000 non-null  int64 \n",
      " 2   商品类目ID  1000000 non-null  int64 \n",
      " 3   行为类型    1000000 non-null  object\n",
      " 4   时间戳     1000000 non-null  int64 \n",
      "dtypes: int64(4), object(1)\n",
      "memory usage: 45.8+ MB\n",
      "None\n"
     ]
    },
    {
     "data": {
      "text/html": [
       "<div>\n",
       "<style scoped>\n",
       "    .dataframe tbody tr th:only-of-type {\n",
       "        vertical-align: middle;\n",
       "    }\n",
       "\n",
       "    .dataframe tbody tr th {\n",
       "        vertical-align: top;\n",
       "    }\n",
       "\n",
       "    .dataframe thead th {\n",
       "        text-align: right;\n",
       "    }\n",
       "</style>\n",
       "<table border=\"1\" class=\"dataframe\">\n",
       "  <thead>\n",
       "    <tr style=\"text-align: right;\">\n",
       "      <th></th>\n",
       "      <th>用户ID</th>\n",
       "      <th>商品ID</th>\n",
       "      <th>商品类目ID</th>\n",
       "      <th>行为类型</th>\n",
       "      <th>时间戳</th>\n",
       "    </tr>\n",
       "  </thead>\n",
       "  <tbody>\n",
       "    <tr>\n",
       "      <th>1</th>\n",
       "      <td>1</td>\n",
       "      <td>2268318</td>\n",
       "      <td>2520377</td>\n",
       "      <td>pv</td>\n",
       "      <td>1511544070</td>\n",
       "    </tr>\n",
       "    <tr>\n",
       "      <th>2</th>\n",
       "      <td>1</td>\n",
       "      <td>2333346</td>\n",
       "      <td>2520771</td>\n",
       "      <td>pv</td>\n",
       "      <td>1511561733</td>\n",
       "    </tr>\n",
       "    <tr>\n",
       "      <th>3</th>\n",
       "      <td>1</td>\n",
       "      <td>2576651</td>\n",
       "      <td>149192</td>\n",
       "      <td>pv</td>\n",
       "      <td>1511572885</td>\n",
       "    </tr>\n",
       "    <tr>\n",
       "      <th>4</th>\n",
       "      <td>1</td>\n",
       "      <td>3830808</td>\n",
       "      <td>4181361</td>\n",
       "      <td>pv</td>\n",
       "      <td>1511593493</td>\n",
       "    </tr>\n",
       "    <tr>\n",
       "      <th>5</th>\n",
       "      <td>1</td>\n",
       "      <td>4365585</td>\n",
       "      <td>2520377</td>\n",
       "      <td>pv</td>\n",
       "      <td>1511596146</td>\n",
       "    </tr>\n",
       "  </tbody>\n",
       "</table>\n",
       "</div>"
      ],
      "text/plain": [
       "   用户ID     商品ID   商品类目ID 行为类型         时间戳\n",
       "1     1  2268318  2520377   pv  1511544070\n",
       "2     1  2333346  2520771   pv  1511561733\n",
       "3     1  2576651   149192   pv  1511572885\n",
       "4     1  3830808  4181361   pv  1511593493\n",
       "5     1  4365585  2520377   pv  1511596146"
      ]
     },
     "execution_count": 6,
     "metadata": {},
     "output_type": "execute_result"
    }
   ],
   "source": [
    "# 2.检查异常值\n",
    "# 1）Timestamp存在负值\n",
    "print(data[data[\"时间戳\"]<0])\n",
    "data = data[data[\"时间戳\"]>0]\n",
    "# 2）Behavior_type存在异常值\n",
    "print(data[\"行为类型\"].value_counts())\n",
    "data = data[data[\"行为类型\"]!=\"3\"]\n",
    "# 3）检查异常处理结果\n",
    "print(data[data[\"时间戳\"]<0])\n",
    "print(data[\"行为类型\"].value_counts())\n",
    "\n",
    "print(data.info())  \n",
    "data.head()"
   ]
  },
  {
   "cell_type": "code",
   "execution_count": 7,
   "metadata": {},
   "outputs": [
    {
     "name": "stdout",
     "output_type": "stream",
     "text": [
      "2017-12-02    137774\n",
      "2017-12-03    136648\n",
      "2017-12-01    109390\n",
      "2017-11-26    106576\n",
      "2017-11-30    105587\n",
      "2017-11-25    104408\n",
      "2017-11-29    102240\n",
      "2017-11-28     99099\n",
      "2017-11-27     97808\n",
      "Name: 日期, dtype: int64\n"
     ]
    }
   ],
   "source": [
    "# 3.时间戳转换时间单位\n",
    "data.loc[:,'时间戳']=data['时间戳'].apply(lambda x: time.strftime(\"%Y-%m-%d %H:%M:%S\", time.localtime(x)))\n",
    "data.loc[:,'日期']=data['时间戳'].apply(lambda x:x.split(' ')[0])\n",
    "data.loc[:,'时间']=data['时间戳'].apply(lambda x:x.split(' ')[1])\n",
    "# 只取2017年11月25日至2017年12月3日之间的数据进行研究\n",
    "# print(data[\"Date\"].value_counts())\n",
    "cleaned_data=data[(data[\"日期\"]>='2017-11-25')&(data[\"日期\"]<='2017-12-03')]\n",
    "print(cleaned_data[\"日期\"].value_counts())"
   ]
  },
  {
   "cell_type": "code",
   "execution_count": 9,
   "metadata": {},
   "outputs": [
    {
     "data": {
      "text/html": [
       "<div>\n",
       "<style scoped>\n",
       "    .dataframe tbody tr th:only-of-type {\n",
       "        vertical-align: middle;\n",
       "    }\n",
       "\n",
       "    .dataframe tbody tr th {\n",
       "        vertical-align: top;\n",
       "    }\n",
       "\n",
       "    .dataframe thead th {\n",
       "        text-align: right;\n",
       "    }\n",
       "</style>\n",
       "<table border=\"1\" class=\"dataframe\">\n",
       "  <thead>\n",
       "    <tr style=\"text-align: right;\">\n",
       "      <th></th>\n",
       "      <th>用户ID</th>\n",
       "      <th>商品ID</th>\n",
       "      <th>商品类目ID</th>\n",
       "      <th>行为类型</th>\n",
       "      <th>时间戳</th>\n",
       "      <th>日期</th>\n",
       "      <th>时间</th>\n",
       "    </tr>\n",
       "  </thead>\n",
       "  <tbody>\n",
       "  </tbody>\n",
       "</table>\n",
       "</div>"
      ],
      "text/plain": [
       "Empty DataFrame\n",
       "Columns: [用户ID, 商品ID, 商品类目ID, 行为类型, 时间戳, 日期, 时间]\n",
       "Index: []"
      ]
     },
     "execution_count": 9,
     "metadata": {},
     "output_type": "execute_result"
    }
   ],
   "source": [
    "# 4.去除重复数据\n",
    "cleaned_data[cleaned_data.duplicated()]\n",
    "# print(cleaned_data.duplicated().value_counts())\n",
    "# cleaned_data=cleaned_data.drop_duplicates(subset=['用户ID','商品ID','商品类目ID','行为类型','时间戳'],keep='first')\n",
    "# print(cleaned_data.duplicated().value_counts())\n"
   ]
  },
  {
   "cell_type": "code",
   "execution_count": 10,
   "metadata": {},
   "outputs": [
    {
     "name": "stdout",
     "output_type": "stream",
     "text": [
      "False    999530\n",
      "dtype: int64\n"
     ]
    }
   ],
   "source": [
    "# 5.预处理数据保存\n",
    "# cleaned_data.to_csv(r'./cleaned_data.csv', encoding = 'utf-8', index = False)\n",
    "# 第一次运行取消注释↑\n",
    "print(cleaned_data.duplicated().value_counts())"
   ]
  },
  {
   "cell_type": "markdown",
   "metadata": {},
   "source": [
    "### 数据分析"
   ]
  },
  {
   "cell_type": "markdown",
   "metadata": {},
   "source": [
    "##### 读取数据"
   ]
  },
  {
   "cell_type": "code",
   "execution_count": 11,
   "metadata": {},
   "outputs": [
    {
     "data": {
      "text/html": [
       "<div>\n",
       "<style scoped>\n",
       "    .dataframe tbody tr th:only-of-type {\n",
       "        vertical-align: middle;\n",
       "    }\n",
       "\n",
       "    .dataframe tbody tr th {\n",
       "        vertical-align: top;\n",
       "    }\n",
       "\n",
       "    .dataframe thead th {\n",
       "        text-align: right;\n",
       "    }\n",
       "</style>\n",
       "<table border=\"1\" class=\"dataframe\">\n",
       "  <thead>\n",
       "    <tr style=\"text-align: right;\">\n",
       "      <th></th>\n",
       "      <th>用户ID</th>\n",
       "      <th>商品ID</th>\n",
       "      <th>商品类目ID</th>\n",
       "      <th>行为类型</th>\n",
       "      <th>时间戳</th>\n",
       "      <th>日期</th>\n",
       "      <th>时间</th>\n",
       "    </tr>\n",
       "  </thead>\n",
       "  <tbody>\n",
       "    <tr>\n",
       "      <th>0</th>\n",
       "      <td>1</td>\n",
       "      <td>2268318</td>\n",
       "      <td>2520377</td>\n",
       "      <td>pv</td>\n",
       "      <td>2017-11-25 01:21:10</td>\n",
       "      <td>2017-11-25</td>\n",
       "      <td>01:21:10</td>\n",
       "    </tr>\n",
       "    <tr>\n",
       "      <th>1</th>\n",
       "      <td>1</td>\n",
       "      <td>2333346</td>\n",
       "      <td>2520771</td>\n",
       "      <td>pv</td>\n",
       "      <td>2017-11-25 06:15:33</td>\n",
       "      <td>2017-11-25</td>\n",
       "      <td>06:15:33</td>\n",
       "    </tr>\n",
       "    <tr>\n",
       "      <th>2</th>\n",
       "      <td>1</td>\n",
       "      <td>2576651</td>\n",
       "      <td>149192</td>\n",
       "      <td>pv</td>\n",
       "      <td>2017-11-25 09:21:25</td>\n",
       "      <td>2017-11-25</td>\n",
       "      <td>09:21:25</td>\n",
       "    </tr>\n",
       "    <tr>\n",
       "      <th>3</th>\n",
       "      <td>1</td>\n",
       "      <td>3830808</td>\n",
       "      <td>4181361</td>\n",
       "      <td>pv</td>\n",
       "      <td>2017-11-25 15:04:53</td>\n",
       "      <td>2017-11-25</td>\n",
       "      <td>15:04:53</td>\n",
       "    </tr>\n",
       "    <tr>\n",
       "      <th>4</th>\n",
       "      <td>1</td>\n",
       "      <td>4365585</td>\n",
       "      <td>2520377</td>\n",
       "      <td>pv</td>\n",
       "      <td>2017-11-25 15:49:06</td>\n",
       "      <td>2017-11-25</td>\n",
       "      <td>15:49:06</td>\n",
       "    </tr>\n",
       "  </tbody>\n",
       "</table>\n",
       "</div>"
      ],
      "text/plain": [
       "   用户ID     商品ID   商品类目ID 行为类型                  时间戳          日期        时间\n",
       "0     1  2268318  2520377   pv  2017-11-25 01:21:10  2017-11-25  01:21:10\n",
       "1     1  2333346  2520771   pv  2017-11-25 06:15:33  2017-11-25  06:15:33\n",
       "2     1  2576651   149192   pv  2017-11-25 09:21:25  2017-11-25  09:21:25\n",
       "3     1  3830808  4181361   pv  2017-11-25 15:04:53  2017-11-25  15:04:53\n",
       "4     1  4365585  2520377   pv  2017-11-25 15:49:06  2017-11-25  15:49:06"
      ]
     },
     "execution_count": 11,
     "metadata": {},
     "output_type": "execute_result"
    }
   ],
   "source": [
    "####\n",
    "import pandas as pd\n",
    "import numpy as np\n",
    "from matplotlib import pyplot as plt\n",
    "file_path =r\"./cleaned_data.csv\"\n",
    "data=pd.read_csv(file_path)\n",
    "data.head()"
   ]
  },
  {
   "cell_type": "markdown",
   "metadata": {},
   "source": [
    "### 数据基本信息"
   ]
  },
  {
   "cell_type": "markdown",
   "metadata": {},
   "source": [
    "本数据集包含了2017年11月25日至2017年12月3日之间，有行为的约一百万随机用户的所有行为（行为包括点击、购买、加购、喜欢）。数据集的组织形式和MovieLens-20M类似，即数据集的每一行表示一条用户行为，由用户ID、商品ID、商品类目ID、行为类型和时间戳组成，并以逗号分隔。"
   ]
  },
  {
   "cell_type": "code",
   "execution_count": 12,
   "metadata": {},
   "outputs": [
    {
     "data": {
      "text/html": [
       "<div>\n",
       "<style scoped>\n",
       "    .dataframe tbody tr th:only-of-type {\n",
       "        vertical-align: middle;\n",
       "    }\n",
       "\n",
       "    .dataframe tbody tr th {\n",
       "        vertical-align: top;\n",
       "    }\n",
       "\n",
       "    .dataframe thead th {\n",
       "        text-align: right;\n",
       "    }\n",
       "</style>\n",
       "<table border=\"1\" class=\"dataframe\">\n",
       "  <thead>\n",
       "    <tr style=\"text-align: right;\">\n",
       "      <th></th>\n",
       "      <th>用户数量</th>\n",
       "      <th>产品数量</th>\n",
       "      <th>产品种类数量</th>\n",
       "      <th>统计天数</th>\n",
       "    </tr>\n",
       "  </thead>\n",
       "  <tbody>\n",
       "    <tr>\n",
       "      <th>1</th>\n",
       "      <td>9739</td>\n",
       "      <td>398971</td>\n",
       "      <td>5793</td>\n",
       "      <td>9</td>\n",
       "    </tr>\n",
       "  </tbody>\n",
       "</table>\n",
       "</div>"
      ],
      "text/plain": [
       "   用户数量    产品数量  产品种类数量  统计天数\n",
       "1  9739  398971    5793     9"
      ]
     },
     "execution_count": 12,
     "metadata": {},
     "output_type": "execute_result"
    }
   ],
   "source": [
    "describe1=pd.DataFrame({\"用户数量\":len(set(list(data[\"用户ID\"]))),\"产品数量\":len(set(list(data[\"商品ID\"]))),\"产品种类数量\":len(set(list(data[\"商品类目ID\"]))),\"统计天数\":len(set(list(data[\"日期\"])))},index=['1'])\n",
    "describe1"
   ]
  },
  {
   "cell_type": "markdown",
   "metadata": {},
   "source": [
    "### 一、用户流量和购买时间情况分析"
   ]
  },
  {
   "cell_type": "markdown",
   "metadata": {},
   "source": [
    "#### 1.用户行为统计表"
   ]
  },
  {
   "cell_type": "code",
   "execution_count": 38,
   "metadata": {},
   "outputs": [
    {
     "data": {
      "text/html": [
       "<div>\n",
       "<style scoped>\n",
       "    .dataframe tbody tr th:only-of-type {\n",
       "        vertical-align: middle;\n",
       "    }\n",
       "\n",
       "    .dataframe tbody tr th {\n",
       "        vertical-align: top;\n",
       "    }\n",
       "\n",
       "    .dataframe thead th {\n",
       "        text-align: right;\n",
       "    }\n",
       "</style>\n",
       "<table border=\"1\" class=\"dataframe\">\n",
       "  <thead>\n",
       "    <tr style=\"text-align: right;\">\n",
       "      <th></th>\n",
       "      <th>点击</th>\n",
       "      <th>加购</th>\n",
       "      <th>收藏</th>\n",
       "      <th>购买</th>\n",
       "    </tr>\n",
       "  </thead>\n",
       "  <tbody>\n",
       "    <tr>\n",
       "      <th>1</th>\n",
       "      <td>55.0</td>\n",
       "      <td>0.0</td>\n",
       "      <td>0.0</td>\n",
       "      <td>0.0</td>\n",
       "    </tr>\n",
       "    <tr>\n",
       "      <th>1015809</th>\n",
       "      <td>116.0</td>\n",
       "      <td>0.0</td>\n",
       "      <td>11.0</td>\n",
       "      <td>3.0</td>\n",
       "    </tr>\n",
       "    <tr>\n",
       "      <th>1015810</th>\n",
       "      <td>48.0</td>\n",
       "      <td>0.0</td>\n",
       "      <td>0.0</td>\n",
       "      <td>0.0</td>\n",
       "    </tr>\n",
       "    <tr>\n",
       "      <th>1015811</th>\n",
       "      <td>122.0</td>\n",
       "      <td>9.0</td>\n",
       "      <td>0.0</td>\n",
       "      <td>2.0</td>\n",
       "    </tr>\n",
       "    <tr>\n",
       "      <th>1015814</th>\n",
       "      <td>217.0</td>\n",
       "      <td>2.0</td>\n",
       "      <td>11.0</td>\n",
       "      <td>3.0</td>\n",
       "    </tr>\n",
       "  </tbody>\n",
       "</table>\n",
       "</div>"
      ],
      "text/plain": [
       "            点击   加购    收藏   购买\n",
       "1         55.0  0.0   0.0  0.0\n",
       "1015809  116.0  0.0  11.0  3.0\n",
       "1015810   48.0  0.0   0.0  0.0\n",
       "1015811  122.0  9.0   0.0  2.0\n",
       "1015814  217.0  2.0  11.0  3.0"
      ]
     },
     "execution_count": 38,
     "metadata": {},
     "output_type": "execute_result"
    }
   ],
   "source": [
    "describe3 = data.loc[:,[\"用户ID\",\"行为类型\"]]\n",
    "ids = pd.DataFrame(np.zeros(len(set(list(data[\"用户ID\"])))),index=set(list(data[\"用户ID\"])))\n",
    "pv_class=describe3[describe3[\"行为类型\"]==\"pv\"].groupby(\"用户ID\").count()\n",
    "pv_class.columns  = [\"点击\"]\n",
    "buy_class=describe3[describe3[\"行为类型\"]==\"buy\"].groupby(\"用户ID\").count()\n",
    "buy_class.columns  = [\"购买\"]\n",
    "fav_class=describe3[describe3[\"行为类型\"]==\"fav\"].groupby(\"用户ID\").count()\n",
    "fav_class.columns  = [\"加购\"]\n",
    "cart_class=describe3[describe3[\"行为类型\"]==\"cart\"].groupby(\"用户ID\").count()\n",
    "cart_class.columns  = [\"收藏\"]\n",
    "user_behavior_counts=ids.join(pv_class).join(fav_class).join(cart_class).join(buy_class).iloc[:,1:]\n",
    "user_behavior_counts = user_behavior_counts.fillna(0)\n",
    "user_behavior_counts.head(5)"
   ]
  },
  {
   "cell_type": "markdown",
   "metadata": {},
   "source": [
    "#### 2.总访问量成交量时间变化分析（天）"
   ]
  },
  {
   "cell_type": "code",
   "execution_count": 43,
   "metadata": {},
   "outputs": [
    {
     "data": {
      "image/png": "[encoded data removed]",
      "text/plain": [
       "<Figure size 1400x420 with 1 Axes>"
      ]
     },
     "metadata": {
      "needs_background": "light"
     },
     "output_type": "display_data"
    }
   ],
   "source": [
    "from matplotlib import font_manager\n",
    "data[\"行为类型\"].value_counts()\n",
    "# pv      895636\n",
    "# cart     55447\n",
    "# fav      28088\n",
    "# buy      20359\n",
    "\n",
    "plt.rcParams[\"font.sans-serif\"]=[\"SimHei\"] #设置字体\n",
    "plt.rcParams[\"axes.unicode_minus\"]=False #正常显示负号\n",
    "\n",
    "#访问量数据\n",
    "data_pv = data[data[\"行为类型\"]==\"pv\"][[\"行为类型\",\"日期\"]]\n",
    "data_pv_date=data_pv.groupby(by=\"日期\").count()\n",
    "# print(\"访问量数据(单/天)\",\"\\n\",data_pv_date)\n",
    "#成交量数据\n",
    "data_buy = data[data[\"行为类型\"]==\"buy\"][[\"行为类型\",\"日期\"]]\n",
    "data_buy_date=data_buy.groupby(by=\"日期\").count()\n",
    "# print(\"成交量数据(单/天)\",\"\\n\",data_buy_date)\n",
    "#绘图\n",
    "my_font = font_manager.FontProperties(fname='C:\\Windows\\Fonts\\Deng.ttf')\n",
    "plt.figure(figsize=(20,6),dpi =70)\n",
    "plt.title(\"总访问量、成交量变化折线图\")\n",
    "# ax1 = plt.subplot(1,2,1)\n",
    "ax2 = plt.subplot(1,2,2)\n",
    "# plt.sca(ax1)\n",
    "# plt.plot(data_pv_date.index,data_pv_date.values,label=\"pv\",color=\"green\",linewidth=2)\n",
    "# plt.title(\"总访问量变化折线图\")\n",
    "# plt.xlabel(\"日期\")\n",
    "# plt.ylabel(\"时间\")\n",
    "\n",
    "plt.sca(ax2)\n",
    "plt.title(\"总成交量变化折线图\")\n",
    "\n",
    "plt.plot(data_buy_date.index,data_buy_date.values,label=\"buy\",linewidth=2)\n",
    "plt.xlabel(\"日期\")\n",
    "plt.ylabel(\"时间\")\n",
    "plt.show()"
   ]
  },
  {
   "cell_type": "markdown",
   "metadata": {},
   "source": [
    "由总访问量、成交量时间变化分析知，从17年11月25日至17年12月1日访问量和成交量存在小幅波动，2017年12月2日访问量和成交量均出现大幅上升，2日、3日两天保持高访问量和高成交量。\n",
    "此现象原因之一为12月2日和3日为周末，同时考虑2日3日可能存在某些促销活动，可结合实际业务情况进行具体分析。\n",
    "（图中周五访问量有上升，但成交量出现下降，推测此现象可能与周末活动导致周五推迟成交有关。）"
   ]
  },
  {
   "cell_type": "markdown",
   "metadata": {},
   "source": [
    "#### 3.总访问量成交量时间变化分析（小时）"
   ]
  },
  {
   "cell_type": "code",
   "execution_count": 19,
   "metadata": {},
   "outputs": [
    {
     "data": {
      "image/png": "[encoded data removed]",
      "text/plain": [
       "<Figure size 1400x420 with 1 Axes>"
      ]
     },
     "metadata": {
      "needs_background": "light"
     },
     "output_type": "display_data"
    },
    {
     "data": {
      "image/png": "[encoded data removed]",
      "text/plain": [
       "<Figure size 1400x420 with 1 Axes>"
      ]
     },
     "metadata": {
      "needs_background": "light"
     },
     "output_type": "display_data"
    }
   ],
   "source": [
    "# 数据准备\n",
    "data_pv_timestamp=data[data[\"行为类型\"]==\"pv\"][[\"行为类型\",\"时间戳\"]]\n",
    "data_pv_timestamp[\"时间戳\"] = pd.to_datetime(data_pv_timestamp[\"时间戳\"])\n",
    "\n",
    "data_pv_timestamp=data_pv_timestamp.set_index(\"时间戳\")\n",
    "data_pv_timestamp=data_pv_timestamp.resample(\"H\").count()[\"行为类型\"]\n",
    "data_pv_timestamp\n",
    "\n",
    "data_buy_timestamp=data[data[\"行为类型\"]==\"buy\"][[\"行为类型\",\"时间戳\"]]\n",
    "data_buy_timestamp[\"时间戳\"] = pd.to_datetime(data_buy_timestamp[\"时间戳\"])\n",
    "\n",
    "data_buy_timestamp=data_buy_timestamp.set_index(\"时间戳\")\n",
    "data_buy_timestamp=data_buy_timestamp.resample(\"H\").count()[\"行为类型\"]\n",
    "data_buy_timestamp\n",
    "\n",
    "#绘图1\n",
    "plt.figure(figsize=(20,6),dpi =70)\n",
    "_x1= data_pv_timestamp.index\n",
    "plt.plot(range(len(_x1)),data_pv_timestamp.values,label=\"浏览量\",color=\"green\",linewidth=2)\n",
    "plt.title(\"总访问量变化折现图（小时）\")\n",
    "\n",
    "_x1 = [i.strftime(\"%Y-%m-%d %H:%M\") for i in _x1]\n",
    "\n",
    "plt.xticks(range(len(_x1))[::4],_x1[::4],rotation=90)\n",
    "\n",
    "plt.xlabel(\"Date\")\n",
    "plt.ylabel(\"Times\")\n",
    "plt.grid(alpha=0.4)\n",
    "\n",
    "#绘图2\n",
    "plt.figure(figsize=(20,6),dpi =70)\n",
    "_x2= data_buy_timestamp.index\n",
    "plt.plot(range(len(_x2)),data_buy_timestamp.values,label=\"成交量\",color=\"blue\",linewidth=2)\n",
    "plt.title(\"总成交量变化折现图（小时）\")\n",
    "\n",
    "_x2 = [i.strftime(\"%Y-%m-%d %H:%M\") for i in _x2]\n",
    "\n",
    "plt.xticks(range(len(_x2))[::4],_x2[::4],rotation=90)\n",
    "\n",
    "plt.xlabel(\"日期\")\n",
    "plt.ylabel(\"时间\")\n",
    "plt.grid(alpha=0.4)\n"
   ]
  },
  {
   "cell_type": "markdown",
   "metadata": {},
   "source": [
    "在以小时为单位的访问量成交量时间变化图中，访问量、成交量低谷均位于凌晨四点左右，在上午10点和下午两点左右出现小高峰，晚上八点至九点为一天中浏览和成交的最高峰。此规律反映出用户使用淘宝网站的行为习惯，用户活跃时间主要集中在晚上八九点，凌晨四点为用户最不活跃的时间段。"
   ]
  },
  {
   "cell_type": "markdown",
   "metadata": {},
   "source": [
    "### 二、漏斗模型（echart）\n"
   ]
  },
  {
   "cell_type": "code",
   "execution_count": 30,
   "metadata": {},
   "outputs": [
    {
     "data": {
      "text/html": [
       "<div>\n",
       "<style scoped>\n",
       "    .dataframe tbody tr th:only-of-type {\n",
       "        vertical-align: middle;\n",
       "    }\n",
       "\n",
       "    .dataframe tbody tr th {\n",
       "        vertical-align: top;\n",
       "    }\n",
       "\n",
       "    .dataframe thead th {\n",
       "        text-align: right;\n",
       "    }\n",
       "</style>\n",
       "<table border=\"1\" class=\"dataframe\">\n",
       "  <thead>\n",
       "    <tr style=\"text-align: right;\">\n",
       "      <th></th>\n",
       "      <th>行为</th>\n",
       "      <th>计数</th>\n",
       "    </tr>\n",
       "  </thead>\n",
       "  <tbody>\n",
       "    <tr>\n",
       "      <th>0</th>\n",
       "      <td>pv</td>\n",
       "      <td>895636</td>\n",
       "    </tr>\n",
       "    <tr>\n",
       "      <th>1</th>\n",
       "      <td>cart+fav</td>\n",
       "      <td>83535</td>\n",
       "    </tr>\n",
       "    <tr>\n",
       "      <th>3</th>\n",
       "      <td>buy</td>\n",
       "      <td>20359</td>\n",
       "    </tr>\n",
       "  </tbody>\n",
       "</table>\n",
       "</div>"
      ],
      "text/plain": [
       "         行为      计数\n",
       "0        pv  895636\n",
       "1  cart+fav   83535\n",
       "3       buy   20359"
      ]
     },
     "execution_count": 30,
     "metadata": {},
     "output_type": "execute_result"
    }
   ],
   "source": [
    "#数据准备\n",
    "behavior_data =data[\"行为类型\"].value_counts()\n",
    "# pv      17901927\n",
    "# fav       575114\n",
    "# cart     1107532\n",
    "# buy       404625\n",
    "dict_num = {'行为':behavior_data.index,'计数':behavior_data.values}\n",
    "behavior_data = pd.DataFrame(dict_num)\n",
    "behavior_data.loc[1,\"行为\"]=\"cart+fav\"\n",
    "behavior_data.loc[1,\"计数\"]+=behavior_data.loc[2,\"计数\"]\n",
    "\n",
    "behavior_data=behavior_data.loc[[0,1,3],:]\n",
    "behavior_data"
   ]
  },
  {
   "cell_type": "code",
   "execution_count": 31,
   "metadata": {},
   "outputs": [
    {
     "data": {
      "text/html": [
       "<div>\n",
       "<style scoped>\n",
       "    .dataframe tbody tr th:only-of-type {\n",
       "        vertical-align: middle;\n",
       "    }\n",
       "\n",
       "    .dataframe tbody tr th {\n",
       "        vertical-align: top;\n",
       "    }\n",
       "\n",
       "    .dataframe thead th {\n",
       "        text-align: right;\n",
       "    }\n",
       "</style>\n",
       "<table border=\"1\" class=\"dataframe\">\n",
       "  <thead>\n",
       "    <tr style=\"text-align: right;\">\n",
       "      <th></th>\n",
       "      <th>行为</th>\n",
       "      <th>计数</th>\n",
       "      <th>单一环节转化率</th>\n",
       "      <th>总体转化率</th>\n",
       "    </tr>\n",
       "  </thead>\n",
       "  <tbody>\n",
       "    <tr>\n",
       "      <th>0</th>\n",
       "      <td>pv</td>\n",
       "      <td>895636</td>\n",
       "      <td>1.0000</td>\n",
       "      <td>1.0000</td>\n",
       "    </tr>\n",
       "    <tr>\n",
       "      <th>1</th>\n",
       "      <td>cart+fav</td>\n",
       "      <td>83535</td>\n",
       "      <td>0.0933</td>\n",
       "      <td>0.0933</td>\n",
       "    </tr>\n",
       "    <tr>\n",
       "      <th>3</th>\n",
       "      <td>buy</td>\n",
       "      <td>20359</td>\n",
       "      <td>0.2437</td>\n",
       "      <td>0.0227</td>\n",
       "    </tr>\n",
       "  </tbody>\n",
       "</table>\n",
       "</div>"
      ],
      "text/plain": [
       "         行为      计数  单一环节转化率   总体转化率\n",
       "0        pv  895636   1.0000  1.0000\n",
       "1  cart+fav   83535   0.0933  0.0933\n",
       "3       buy   20359   0.2437  0.0227"
      ]
     },
     "execution_count": 31,
     "metadata": {},
     "output_type": "execute_result"
    }
   ],
   "source": [
    "#计算单一环节转化率/总体转化率\n",
    "import numpy as np\n",
    "temp1 = np.array(behavior_data['计数'][1:])\n",
    "temp2 = np.array(behavior_data['计数'][0:-1])\n",
    "single_convs = temp1 / temp2\n",
    "single_convs = list(single_convs)\n",
    "single_convs.insert(0,1)\n",
    "single_convs = [round(x,4) for x in single_convs]  # 利用round函数将转化率保留四位小数\n",
    "behavior_data['单一环节转化率'] = single_convs\n",
    " \n",
    "temp3 = np.array(behavior_data['计数'])\n",
    "temp4= np.ones(len(behavior_data['计数'])) * behavior_data['计数'][0]\n",
    "total_convs = (temp3 / temp4).tolist()\n",
    "total_convs = [round(x,4) for x in total_convs]\n",
    "behavior_data['总体转化率'] = total_convs\n",
    "\n",
    "behavior_data"
   ]
  },
  {
   "cell_type": "code",
   "execution_count": 39,
   "metadata": {},
   "outputs": [],
   "source": [
    "from pyecharts import Funnel\n",
    "\n",
    "\n",
    "attrs = behavior_data['行为'].tolist()\n",
    "attr_value = (np.array(behavior_data['总体转化率'])* 100).tolist()\n",
    "\n",
    "\n",
    "\n",
    "funnel2 = Funnel(\"总体转化漏斗图\",width=800, height=400, title_pos='center')\n",
    " \n",
    "funnel2.add(name=\"商品交易环节\",        # 指定图例名称\n",
    "            attr=attrs,                 # 指定属性名称\n",
    "            value = attr_value,         # 指定属性所对应的值\n",
    "            is_label_show=True,         # 指定标签是否显示\n",
    "            label_formatter='{b}{c}%',  # 指定标签显示的格式\n",
    "            label_pos=\"outside\",        # 指定标签的位置\n",
    "            is_legend_show=False)       # 指定图例不显示图例\n",
    " \n",
    "funnel2.render(\"1.html\")\n",
    "#在网页里下载图片存为png\n"
   ]
  },
  {
   "cell_type": "code",
   "execution_count": 50,
   "metadata": {
    "scrolled": false
   },
   "outputs": [
    {
     "data": {
      "image/png": "[encoded data removed]",
      "text/plain": [
       "<IPython.core.display.Image object>"
      ]
     },
     "metadata": {},
     "output_type": "display_data"
    }
   ],
   "source": [
    "%matplotlib inline\n",
    "from IPython.display import Image as IMG\n",
    "\n",
    "display(IMG(\"总体转化漏斗图.png\"))"
   ]
  },
  {
   "cell_type": "markdown",
   "metadata": {},
   "source": [
    "### 三、用户特征分析"
   ]
  },
  {
   "cell_type": "markdown",
   "metadata": {},
   "source": [
    "#### 1.基于购买率分析"
   ]
  },
  {
   "cell_type": "markdown",
   "metadata": {},
   "source": [
    "#### 2.RMF 分析\n",
    "RFM模型即\"R\"——Recency（最近一次消费时间）、\"F\"——Frequency（一段时间内消费频次）、\"M\"——Monetary（一段时间内消费总额）。这三个指标可以将我们的用户划分成不同的等级和层次，目的是为了衡量他们的用户价值，从而能够更准确地将成本和精力花在更精确的用户层次身上。这里没有关于金额的数据，因此只进行RF分析\n"
   ]
  },
  {
   "cell_type": "code",
   "execution_count": 2,
   "metadata": {},
   "outputs": [
    {
     "data": {
      "image/png": "[encoded data removed]",
      "text/plain": [
       "<IPython.core.display.Image object>"
      ]
     },
     "metadata": {},
     "output_type": "display_data"
    }
   ],
   "source": [
    "from IPython.display import Image as IMG\n",
    "\n",
    "display(IMG(\"RMF.png\"))"
   ]
  },
  {
   "cell_type": "code",
   "execution_count": 20,
   "metadata": {},
   "outputs": [
    {
     "data": {
      "text/html": [
       "<div>\n",
       "<style scoped>\n",
       "    .dataframe tbody tr th:only-of-type {\n",
       "        vertical-align: middle;\n",
       "    }\n",
       "\n",
       "    .dataframe tbody tr th {\n",
       "        vertical-align: top;\n",
       "    }\n",
       "\n",
       "    .dataframe thead th {\n",
       "        text-align: right;\n",
       "    }\n",
       "</style>\n",
       "<table border=\"1\" class=\"dataframe\">\n",
       "  <thead>\n",
       "    <tr style=\"text-align: right;\">\n",
       "      <th></th>\n",
       "      <th>用户ID</th>\n",
       "      <th>商品ID</th>\n",
       "      <th>商品类目ID</th>\n",
       "      <th>行为类型</th>\n",
       "      <th>时间戳</th>\n",
       "      <th>日期</th>\n",
       "      <th>时间</th>\n",
       "      <th>Recency</th>\n",
       "      <th>Frequence</th>\n",
       "    </tr>\n",
       "  </thead>\n",
       "  <tbody>\n",
       "    <tr>\n",
       "      <th>0</th>\n",
       "      <td>100</td>\n",
       "      <td>1603476</td>\n",
       "      <td>2951233</td>\n",
       "      <td>buy</td>\n",
       "      <td>2017-11-25 11:18:28</td>\n",
       "      <td>2017-11-25</td>\n",
       "      <td>11:18:28</td>\n",
       "      <td>9 days</td>\n",
       "      <td>8</td>\n",
       "    </tr>\n",
       "    <tr>\n",
       "      <th>1</th>\n",
       "      <td>100</td>\n",
       "      <td>2971043</td>\n",
       "      <td>4869428</td>\n",
       "      <td>buy</td>\n",
       "      <td>2017-11-25 21:45:49</td>\n",
       "      <td>2017-11-25</td>\n",
       "      <td>21:45:49</td>\n",
       "      <td>9 days</td>\n",
       "      <td>8</td>\n",
       "    </tr>\n",
       "    <tr>\n",
       "      <th>2</th>\n",
       "      <td>100</td>\n",
       "      <td>598929</td>\n",
       "      <td>2429887</td>\n",
       "      <td>buy</td>\n",
       "      <td>2017-11-27 13:10:58</td>\n",
       "      <td>2017-11-27</td>\n",
       "      <td>13:10:58</td>\n",
       "      <td>7 days</td>\n",
       "      <td>8</td>\n",
       "    </tr>\n",
       "    <tr>\n",
       "      <th>3</th>\n",
       "      <td>100</td>\n",
       "      <td>1046201</td>\n",
       "      <td>3002561</td>\n",
       "      <td>buy</td>\n",
       "      <td>2017-11-27 15:21:38</td>\n",
       "      <td>2017-11-27</td>\n",
       "      <td>15:21:38</td>\n",
       "      <td>7 days</td>\n",
       "      <td>8</td>\n",
       "    </tr>\n",
       "    <tr>\n",
       "      <th>4</th>\n",
       "      <td>100</td>\n",
       "      <td>1606258</td>\n",
       "      <td>4098232</td>\n",
       "      <td>buy</td>\n",
       "      <td>2017-11-27 21:39:00</td>\n",
       "      <td>2017-11-27</td>\n",
       "      <td>21:39:00</td>\n",
       "      <td>7 days</td>\n",
       "      <td>8</td>\n",
       "    </tr>\n",
       "  </tbody>\n",
       "</table>\n",
       "</div>"
      ],
      "text/plain": [
       "   用户ID     商品ID   商品类目ID 行为类型                  时间戳          日期        时间  \\\n",
       "0   100  1603476  2951233  buy  2017-11-25 11:18:28  2017-11-25  11:18:28   \n",
       "1   100  2971043  4869428  buy  2017-11-25 21:45:49  2017-11-25  21:45:49   \n",
       "2   100   598929  2429887  buy  2017-11-27 13:10:58  2017-11-27  13:10:58   \n",
       "3   100  1046201  3002561  buy  2017-11-27 15:21:38  2017-11-27  15:21:38   \n",
       "4   100  1606258  4098232  buy  2017-11-27 21:39:00  2017-11-27  21:39:00   \n",
       "\n",
       "  Recency  Frequence  \n",
       "0  9 days          8  \n",
       "1  9 days          8  \n",
       "2  7 days          8  \n",
       "3  7 days          8  \n",
       "4  7 days          8  "
      ]
     },
     "execution_count": 20,
     "metadata": {},
     "output_type": "execute_result"
    }
   ],
   "source": [
    "buy_data = data[data[\"行为类型\"]==\"buy\"]\n",
    "\n",
    "# diffdate=pd.DataFrame(np.\n",
    "# buy_data[\"Datediff\"]=[pd.to_datetime('2017-12-04')-pd.to_datetime(buy_data['Date'])]\n",
    "buy_data\n",
    "series_r=pd.to_datetime('2017-12-04')-pd.to_datetime(buy_data['日期'])\n",
    "\n",
    "series_r1 = {'Recency':series_r.values}\n",
    "series_r1 = pd.DataFrame(series_r1,index =series_r.index )\n",
    "\n",
    "R_data = buy_data.join(series_r1)\n",
    "\n",
    "\n",
    "series_r2 = R_data.groupby(by = \"用户ID\").count()[\"行为类型\"]\n",
    "\n",
    "series_r2_dic = {'Frequence':series_r2.values,\"用户ID\":series_r2.index}\n",
    "F_data = pd.DataFrame(series_r2_dic)\n",
    "RF_data = R_data.merge(F_data,on=\"用户ID\",how=\"left\") \n",
    "RF_data.head()"
   ]
  },
  {
   "cell_type": "code",
   "execution_count": 21,
   "metadata": {},
   "outputs": [
    {
     "name": "stdout",
     "output_type": "stream",
     "text": [
      "用户ID          122276.0\n",
      "商品ID         2614868.0\n",
      "商品类目ID       2640118.0\n",
      "Recency            5.0\n",
      "Frequence          4.0\n",
      "Name: 0.5, dtype: float64\n"
     ]
    }
   ],
   "source": [
    "RF_data[\"Recency\"].dtype\n",
    "RF_data[\"Recency\"] = RF_data[\"Recency\"]/np.timedelta64(1, 'D')\n",
    "RF_data[\"Recency\"]=RF_data[\"Recency\"].astype(\"int64\")\n",
    "print(RF_data.quantile())\n",
    "# RF_data.max()\n",
    "RF_data[\"R\"]=(RF_data[\"Recency\"]).apply(lambda x: \"高\" if x <=5 else \"低\")\n",
    "RF_data[\"F\"]=(RF_data[\"Frequence\"]).apply(lambda x: \"高\" if x >=4 else \"低\")\n",
    "\n"
   ]
  },
  {
   "cell_type": "code",
   "execution_count": 25,
   "metadata": {},
   "outputs": [
    {
     "data": {
      "text/html": [
       "<div>\n",
       "<style scoped>\n",
       "    .dataframe tbody tr th:only-of-type {\n",
       "        vertical-align: middle;\n",
       "    }\n",
       "\n",
       "    .dataframe tbody tr th {\n",
       "        vertical-align: top;\n",
       "    }\n",
       "\n",
       "    .dataframe thead th {\n",
       "        text-align: right;\n",
       "    }\n",
       "</style>\n",
       "<table border=\"1\" class=\"dataframe\">\n",
       "  <thead>\n",
       "    <tr style=\"text-align: right;\">\n",
       "      <th></th>\n",
       "      <th>用户ID</th>\n",
       "      <th>商品ID</th>\n",
       "      <th>商品类目ID</th>\n",
       "      <th>行为类型</th>\n",
       "      <th>时间戳</th>\n",
       "      <th>日期</th>\n",
       "      <th>时间</th>\n",
       "      <th>Recency</th>\n",
       "      <th>Frequence</th>\n",
       "      <th>R</th>\n",
       "      <th>F</th>\n",
       "      <th>RMF</th>\n",
       "    </tr>\n",
       "  </thead>\n",
       "  <tbody>\n",
       "    <tr>\n",
       "      <th>0</th>\n",
       "      <td>100</td>\n",
       "      <td>1603476</td>\n",
       "      <td>2951233</td>\n",
       "      <td>buy</td>\n",
       "      <td>2017-11-25 11:18:28</td>\n",
       "      <td>2017-11-25</td>\n",
       "      <td>11:18:28</td>\n",
       "      <td>9</td>\n",
       "      <td>8</td>\n",
       "      <td>低</td>\n",
       "      <td>高</td>\n",
       "      <td>保持客户</td>\n",
       "    </tr>\n",
       "    <tr>\n",
       "      <th>1</th>\n",
       "      <td>100</td>\n",
       "      <td>2971043</td>\n",
       "      <td>4869428</td>\n",
       "      <td>buy</td>\n",
       "      <td>2017-11-25 21:45:49</td>\n",
       "      <td>2017-11-25</td>\n",
       "      <td>21:45:49</td>\n",
       "      <td>9</td>\n",
       "      <td>8</td>\n",
       "      <td>低</td>\n",
       "      <td>高</td>\n",
       "      <td>保持客户</td>\n",
       "    </tr>\n",
       "    <tr>\n",
       "      <th>2</th>\n",
       "      <td>100</td>\n",
       "      <td>598929</td>\n",
       "      <td>2429887</td>\n",
       "      <td>buy</td>\n",
       "      <td>2017-11-27 13:10:58</td>\n",
       "      <td>2017-11-27</td>\n",
       "      <td>13:10:58</td>\n",
       "      <td>7</td>\n",
       "      <td>8</td>\n",
       "      <td>低</td>\n",
       "      <td>高</td>\n",
       "      <td>保持客户</td>\n",
       "    </tr>\n",
       "    <tr>\n",
       "      <th>3</th>\n",
       "      <td>100</td>\n",
       "      <td>1046201</td>\n",
       "      <td>3002561</td>\n",
       "      <td>buy</td>\n",
       "      <td>2017-11-27 15:21:38</td>\n",
       "      <td>2017-11-27</td>\n",
       "      <td>15:21:38</td>\n",
       "      <td>7</td>\n",
       "      <td>8</td>\n",
       "      <td>低</td>\n",
       "      <td>高</td>\n",
       "      <td>保持客户</td>\n",
       "    </tr>\n",
       "    <tr>\n",
       "      <th>4</th>\n",
       "      <td>100</td>\n",
       "      <td>1606258</td>\n",
       "      <td>4098232</td>\n",
       "      <td>buy</td>\n",
       "      <td>2017-11-27 21:39:00</td>\n",
       "      <td>2017-11-27</td>\n",
       "      <td>21:39:00</td>\n",
       "      <td>7</td>\n",
       "      <td>8</td>\n",
       "      <td>低</td>\n",
       "      <td>高</td>\n",
       "      <td>保持客户</td>\n",
       "    </tr>\n",
       "  </tbody>\n",
       "</table>\n",
       "</div>"
      ],
      "text/plain": [
       "   用户ID     商品ID   商品类目ID 行为类型                  时间戳          日期        时间  \\\n",
       "0   100  1603476  2951233  buy  2017-11-25 11:18:28  2017-11-25  11:18:28   \n",
       "1   100  2971043  4869428  buy  2017-11-25 21:45:49  2017-11-25  21:45:49   \n",
       "2   100   598929  2429887  buy  2017-11-27 13:10:58  2017-11-27  13:10:58   \n",
       "3   100  1046201  3002561  buy  2017-11-27 15:21:38  2017-11-27  15:21:38   \n",
       "4   100  1606258  4098232  buy  2017-11-27 21:39:00  2017-11-27  21:39:00   \n",
       "\n",
       "   Recency  Frequence  R  F   RMF  \n",
       "0        9          8  低  高  保持客户  \n",
       "1        9          8  低  高  保持客户  \n",
       "2        7          8  低  高  保持客户  \n",
       "3        7          8  低  高  保持客户  \n",
       "4        7          8  低  高  保持客户  "
      ]
     },
     "execution_count": 25,
     "metadata": {},
     "output_type": "execute_result"
    }
   ],
   "source": [
    "def rmf(r,f):\n",
    "    if r==\"高\" and f==\"高\":\n",
    "        return \"价值客户\"\n",
    "    elif r==\"低\" and f==\"高\":\n",
    "        return \"保持客户\"\n",
    "    elif r==\"高\" and f==\"低\":\n",
    "        return \"发展客户\"\n",
    "    else:\n",
    "        return \"挽留客户\"\n",
    "    \n",
    "RF_data['RMF']=RF_data.apply(lambda row: rmf(row['R'], row['F']), axis=1)\n",
    "RF_data.head()"
   ]
  },
  {
   "cell_type": "markdown",
   "metadata": {},
   "source": [
    "通过RMF模型，根据业务对最近一次消费时间按和消费频率数据进行对用户进行打分。根据高低值打分，将用户分为价值用户、发展用户、保持用户和挽留用户四种，并对不同类别的用户占比进行分析，从而实现差异化营销。 "
   ]
  },
  {
   "cell_type": "code",
   "execution_count": 26,
   "metadata": {},
   "outputs": [
    {
     "name": "stdout",
     "output_type": "stream",
     "text": [
      "价值客户    6766\n",
      "发展客户    5148\n",
      "保持客户    5062\n",
      "挽留客户    3383\n",
      "Name: RMF, dtype: int64\n"
     ]
    },
    {
     "name": "stderr",
     "output_type": "stream",
     "text": [
      "D:\\Program Files\\Anaconda3\\lib\\site-packages\\IPython\\core\\pylabtools.py:151: UserWarning: Glyph 20215 (\\N{CJK UNIFIED IDEOGRAPH-4EF7}) missing from current font.\n",
      "  fig.canvas.print_figure(bytes_io, **kw)\n",
      "D:\\Program Files\\Anaconda3\\lib\\site-packages\\IPython\\core\\pylabtools.py:151: UserWarning: Glyph 20540 (\\N{CJK UNIFIED IDEOGRAPH-503C}) missing from current font.\n",
      "  fig.canvas.print_figure(bytes_io, **kw)\n",
      "D:\\Program Files\\Anaconda3\\lib\\site-packages\\IPython\\core\\pylabtools.py:151: UserWarning: Glyph 23458 (\\N{CJK UNIFIED IDEOGRAPH-5BA2}) missing from current font.\n",
      "  fig.canvas.print_figure(bytes_io, **kw)\n",
      "D:\\Program Files\\Anaconda3\\lib\\site-packages\\IPython\\core\\pylabtools.py:151: UserWarning: Glyph 25143 (\\N{CJK UNIFIED IDEOGRAPH-6237}) missing from current font.\n",
      "  fig.canvas.print_figure(bytes_io, **kw)\n",
      "D:\\Program Files\\Anaconda3\\lib\\site-packages\\IPython\\core\\pylabtools.py:151: UserWarning: Glyph 21457 (\\N{CJK UNIFIED IDEOGRAPH-53D1}) missing from current font.\n",
      "  fig.canvas.print_figure(bytes_io, **kw)\n",
      "D:\\Program Files\\Anaconda3\\lib\\site-packages\\IPython\\core\\pylabtools.py:151: UserWarning: Glyph 23637 (\\N{CJK UNIFIED IDEOGRAPH-5C55}) missing from current font.\n",
      "  fig.canvas.print_figure(bytes_io, **kw)\n",
      "D:\\Program Files\\Anaconda3\\lib\\site-packages\\IPython\\core\\pylabtools.py:151: UserWarning: Glyph 20445 (\\N{CJK UNIFIED IDEOGRAPH-4FDD}) missing from current font.\n",
      "  fig.canvas.print_figure(bytes_io, **kw)\n",
      "D:\\Program Files\\Anaconda3\\lib\\site-packages\\IPython\\core\\pylabtools.py:151: UserWarning: Glyph 25345 (\\N{CJK UNIFIED IDEOGRAPH-6301}) missing from current font.\n",
      "  fig.canvas.print_figure(bytes_io, **kw)\n",
      "D:\\Program Files\\Anaconda3\\lib\\site-packages\\IPython\\core\\pylabtools.py:151: UserWarning: Glyph 25405 (\\N{CJK UNIFIED IDEOGRAPH-633D}) missing from current font.\n",
      "  fig.canvas.print_figure(bytes_io, **kw)\n",
      "D:\\Program Files\\Anaconda3\\lib\\site-packages\\IPython\\core\\pylabtools.py:151: UserWarning: Glyph 30041 (\\N{CJK UNIFIED IDEOGRAPH-7559}) missing from current font.\n",
      "  fig.canvas.print_figure(bytes_io, **kw)\n"
     ]
    },
    {
     "data": {
      "image/png": "[encoded data removed]",
      "text/plain": [
       "<Figure size 432x288 with 1 Axes>"
      ]
     },
     "metadata": {},
     "output_type": "display_data"
    }
   ],
   "source": [
    "#RMF用户等级分析\n",
    "from matplotlib import font_manager\n",
    "\n",
    "rmf_data = RF_data['RMF'].value_counts()\n",
    "print(rmf_data)\n",
    "\n",
    "# Pie chart, where the slices will be ordered and plotted counter-clockwise:\n",
    "labels =rmf_data.index\n",
    "sizes = rmf_data.values #rmf_data.sum()\n",
    "# explode = (0, 0.1, 0, 0)  # only \"explode\" the 2nd slice (i.e. 'Hogs')\n",
    "my_font = font_manager.FontProperties(fname='C:\\Windows\\Fonts\\simhei.ttf')\n",
    "\n",
    "fig1, ax1 = plt.subplots()\n",
    "pie = ax1.pie(sizes,labels=labels, autopct='%1.1f%%',colors=[\"#EEDD82\",\"#F08080\",\"#AB82FF\",\"#B3EE3A\"],\n",
    "        shadow=True, startangle=90)\n",
    "\n",
    "\n",
    "# for font in pie[1]:\n",
    "#     font.set_fontproperties(font_manager.FontProperties(\n",
    "#             fname='C:\\Windows\\Fonts\\Deng.ttf'))\n",
    "    \n",
    "ax1.axis('equal')  # Equal aspect ratio ensures that pie is drawn as a circle.\n",
    "\n",
    "plt.show()"
   ]
  },
  {
   "cell_type": "markdown",
   "metadata": {},
   "source": [
    "**用户分类后，如何精细化运营呢？ 对用户分类以后要做什么呢？那就是针对每类用户如何制定运营策略，需要具体公司业务不同制定不一样的策略**"
   ]
  },
  {
   "cell_type": "markdown",
   "metadata": {},
   "source": [
    "- 价值用户，RFM三个值都很高，要提供vip服务  \n",
    "- 发展用户，消费频率低，但是其他两个值很高，就要想办法提高他的消费频率  \n",
    "- 保持用户，最近消费距离现在时间较远，也就是F值低，但是消费频次和消费金额高。这种用户，是一段时间没来的忠实客户。应该提高复购率  \n",
    "- 挽留客户，最近消费时间距离现在较远、消费频率低，但消费金额高。这种用户，即将流失，要调查清楚哪里出了问题，并想办法挽回。  \n",
    "\n",
    "通过RFM分析方法来分析用户，对用户进行精细化运营。不断将用户转化为重要价值用户  "
   ]
  },
  {
   "cell_type": "markdown",
   "metadata": {},
   "source": [
    "### 四、商品分析"
   ]
  },
  {
   "cell_type": "code",
   "execution_count": 67,
   "metadata": {},
   "outputs": [],
   "source": [
    "item_data=data[\"商品ID\"].value_counts()\n",
    "dict_item = {'商品ID':item_data.index,'numbers':item_data.values}\n",
    "item_data = pd.DataFrame(dict_item)\n",
    "category_data = data[\"商品类目ID\"].value_counts()\n",
    "dict_category = {'商品类目ID':category_data.index,'numbers':category_data.values}\n",
    "category_data = pd.DataFrame(dict_category)"
   ]
  },
  {
   "cell_type": "code",
   "execution_count": 68,
   "metadata": {},
   "outputs": [
    {
     "data": {
      "text/html": [
       "<div>\n",
       "<style scoped>\n",
       "    .dataframe tbody tr th:only-of-type {\n",
       "        vertical-align: middle;\n",
       "    }\n",
       "\n",
       "    .dataframe tbody tr th {\n",
       "        vertical-align: top;\n",
       "    }\n",
       "\n",
       "    .dataframe thead th {\n",
       "        text-align: right;\n",
       "    }\n",
       "</style>\n",
       "<table border=\"1\" class=\"dataframe\">\n",
       "  <thead>\n",
       "    <tr style=\"text-align: right;\">\n",
       "      <th></th>\n",
       "      <th>商品ID</th>\n",
       "      <th>numbers</th>\n",
       "    </tr>\n",
       "  </thead>\n",
       "  <tbody>\n",
       "    <tr>\n",
       "      <th>0</th>\n",
       "      <td>812879</td>\n",
       "      <td>304</td>\n",
       "    </tr>\n",
       "    <tr>\n",
       "      <th>1</th>\n",
       "      <td>138964</td>\n",
       "      <td>232</td>\n",
       "    </tr>\n",
       "    <tr>\n",
       "      <th>2</th>\n",
       "      <td>3845720</td>\n",
       "      <td>229</td>\n",
       "    </tr>\n",
       "    <tr>\n",
       "      <th>3</th>\n",
       "      <td>2331370</td>\n",
       "      <td>207</td>\n",
       "    </tr>\n",
       "    <tr>\n",
       "      <th>4</th>\n",
       "      <td>2032668</td>\n",
       "      <td>206</td>\n",
       "    </tr>\n",
       "  </tbody>\n",
       "</table>\n",
       "</div>"
      ],
      "text/plain": [
       "      商品ID  numbers\n",
       "0   812879      304\n",
       "1   138964      232\n",
       "2  3845720      229\n",
       "3  2331370      207\n",
       "4  2032668      206"
      ]
     },
     "execution_count": 68,
     "metadata": {},
     "output_type": "execute_result"
    }
   ],
   "source": [
    "item_data.head(5)"
   ]
  },
  {
   "cell_type": "code",
   "execution_count": 69,
   "metadata": {},
   "outputs": [
    {
     "data": {
      "text/html": [
       "<div>\n",
       "<style scoped>\n",
       "    .dataframe tbody tr th:only-of-type {\n",
       "        vertical-align: middle;\n",
       "    }\n",
       "\n",
       "    .dataframe tbody tr th {\n",
       "        vertical-align: top;\n",
       "    }\n",
       "\n",
       "    .dataframe thead th {\n",
       "        text-align: right;\n",
       "    }\n",
       "</style>\n",
       "<table border=\"1\" class=\"dataframe\">\n",
       "  <thead>\n",
       "    <tr style=\"text-align: right;\">\n",
       "      <th></th>\n",
       "      <th>商品类目ID</th>\n",
       "      <th>numbers</th>\n",
       "    </tr>\n",
       "  </thead>\n",
       "  <tbody>\n",
       "    <tr>\n",
       "      <th>0</th>\n",
       "      <td>4756105</td>\n",
       "      <td>51860</td>\n",
       "    </tr>\n",
       "    <tr>\n",
       "      <th>1</th>\n",
       "      <td>4145813</td>\n",
       "      <td>33829</td>\n",
       "    </tr>\n",
       "    <tr>\n",
       "      <th>2</th>\n",
       "      <td>2355072</td>\n",
       "      <td>32555</td>\n",
       "    </tr>\n",
       "    <tr>\n",
       "      <th>3</th>\n",
       "      <td>3607361</td>\n",
       "      <td>31217</td>\n",
       "    </tr>\n",
       "    <tr>\n",
       "      <th>4</th>\n",
       "      <td>982926</td>\n",
       "      <td>30791</td>\n",
       "    </tr>\n",
       "  </tbody>\n",
       "</table>\n",
       "</div>"
      ],
      "text/plain": [
       "    商品类目ID  numbers\n",
       "0  4756105    51860\n",
       "1  4145813    33829\n",
       "2  2355072    32555\n",
       "3  3607361    31217\n",
       "4   982926    30791"
      ]
     },
     "execution_count": 69,
     "metadata": {},
     "output_type": "execute_result"
    }
   ],
   "source": [
    "category_data.head(5)"
   ]
  },
  {
   "cell_type": "markdown",
   "metadata": {},
   "source": [
    "以上商品销售情况及商品所属大类销售的受欢迎情况可快速得知."
   ]
  },
  {
   "cell_type": "markdown",
   "metadata": {},
   "source": [
    "# 数据挖掘"
   ]
  },
  {
   "cell_type": "markdown",
   "metadata": {},
   "source": [
    "## KNN分类"
   ]
  },
  {
   "cell_type": "code",
   "execution_count": 17,
   "metadata": {},
   "outputs": [],
   "source": [
    "from sklearn.neighbors import KNeighborsClassifier\n",
    "from sklearn.model_selection import train_test_split\n",
    "import numpy as np\n",
    "import pandas as pd"
   ]
  },
  {
   "cell_type": "markdown",
   "metadata": {},
   "source": [
    "**K值**\n",
    "- K值（临近数，即在预测目标点时取几个临近的点来预测）的选择，会直接影响到预测结果。\n",
    "- 当K值较小时，模型会较依赖于附近的邻居样本，具有较好敏感性，但是稳定性会较弱，容易导致过拟合。\n",
    "- 当K值较大时，稳定性增加，但是敏感性会减弱，容易导致欠拟合。\n",
    "- 通常情况下，可以通过交叉验证的方式，选择最合适的K值。"
   ]
  },
  {
   "cell_type": "markdown",
   "metadata": {},
   "source": [
    "**K值的取值方式**\n",
    "- K的取值尽量要取奇数，以保证在计算结果最后会产生一个较多的类别，如果取偶数可能会产生相等的情况，不利于预测。\n",
    "- 常用的方法是从k=1开始，使用检验集估计分类器的误差率。重复该过程，每次K值增加1，即增加一个近邻，选取产生最小误差率的K。\n",
    "- 一般k的取值不超过20，上限是n（n为样本总数）的开方，随着数据集的增大，K的值也要增大。"
   ]
  },
  {
   "cell_type": "code",
   "execution_count": 14,
   "metadata": {},
   "outputs": [
    {
     "data": {
      "text/html": [
       "<div>\n",
       "<style scoped>\n",
       "    .dataframe tbody tr th:only-of-type {\n",
       "        vertical-align: middle;\n",
       "    }\n",
       "\n",
       "    .dataframe tbody tr th {\n",
       "        vertical-align: top;\n",
       "    }\n",
       "\n",
       "    .dataframe thead th {\n",
       "        text-align: right;\n",
       "    }\n",
       "</style>\n",
       "<table border=\"1\" class=\"dataframe\">\n",
       "  <thead>\n",
       "    <tr style=\"text-align: right;\">\n",
       "      <th></th>\n",
       "      <th>用户ID</th>\n",
       "      <th>商品ID</th>\n",
       "      <th>商品类目ID</th>\n",
       "      <th>行为类型</th>\n",
       "      <th>时间戳</th>\n",
       "      <th>日期</th>\n",
       "      <th>时间</th>\n",
       "    </tr>\n",
       "  </thead>\n",
       "  <tbody>\n",
       "    <tr>\n",
       "      <th>0</th>\n",
       "      <td>1</td>\n",
       "      <td>2268318</td>\n",
       "      <td>2520377</td>\n",
       "      <td>pv</td>\n",
       "      <td>2017-11-25 01:21:10</td>\n",
       "      <td>2017-11-25</td>\n",
       "      <td>01:21:10</td>\n",
       "    </tr>\n",
       "    <tr>\n",
       "      <th>1</th>\n",
       "      <td>1</td>\n",
       "      <td>2333346</td>\n",
       "      <td>2520771</td>\n",
       "      <td>pv</td>\n",
       "      <td>2017-11-25 06:15:33</td>\n",
       "      <td>2017-11-25</td>\n",
       "      <td>06:15:33</td>\n",
       "    </tr>\n",
       "    <tr>\n",
       "      <th>2</th>\n",
       "      <td>1</td>\n",
       "      <td>2576651</td>\n",
       "      <td>149192</td>\n",
       "      <td>pv</td>\n",
       "      <td>2017-11-25 09:21:25</td>\n",
       "      <td>2017-11-25</td>\n",
       "      <td>09:21:25</td>\n",
       "    </tr>\n",
       "    <tr>\n",
       "      <th>3</th>\n",
       "      <td>1</td>\n",
       "      <td>3830808</td>\n",
       "      <td>4181361</td>\n",
       "      <td>pv</td>\n",
       "      <td>2017-11-25 15:04:53</td>\n",
       "      <td>2017-11-25</td>\n",
       "      <td>15:04:53</td>\n",
       "    </tr>\n",
       "    <tr>\n",
       "      <th>4</th>\n",
       "      <td>1</td>\n",
       "      <td>4365585</td>\n",
       "      <td>2520377</td>\n",
       "      <td>pv</td>\n",
       "      <td>2017-11-25 15:49:06</td>\n",
       "      <td>2017-11-25</td>\n",
       "      <td>15:49:06</td>\n",
       "    </tr>\n",
       "  </tbody>\n",
       "</table>\n",
       "</div>"
      ],
      "text/plain": [
       "   用户ID     商品ID   商品类目ID 行为类型                  时间戳          日期        时间\n",
       "0     1  2268318  2520377   pv  2017-11-25 01:21:10  2017-11-25  01:21:10\n",
       "1     1  2333346  2520771   pv  2017-11-25 06:15:33  2017-11-25  06:15:33\n",
       "2     1  2576651   149192   pv  2017-11-25 09:21:25  2017-11-25  09:21:25\n",
       "3     1  3830808  4181361   pv  2017-11-25 15:04:53  2017-11-25  15:04:53\n",
       "4     1  4365585  2520377   pv  2017-11-25 15:49:06  2017-11-25  15:49:06"
      ]
     },
     "execution_count": 14,
     "metadata": {},
     "output_type": "execute_result"
    }
   ],
   "source": [
    "data_url = 'cleaned_data.csv'\n",
    "df = pd.read_csv(data_url)\n",
    "df.head(5)"
   ]
  },
  {
   "cell_type": "markdown",
   "metadata": {},
   "source": [
    "## 数据挖掘"
   ]
  },
  {
   "cell_type": "markdown",
   "metadata": {},
   "source": [
    "**特征工程**"
   ]
  },
  {
   "cell_type": "code",
   "execution_count": 30,
   "metadata": {},
   "outputs": [],
   "source": [
    "#加载库\n",
    "import pandas as pd\n",
    "import numpy as np"
   ]
  },
  {
   "cell_type": "code",
   "execution_count": 31,
   "metadata": {},
   "outputs": [
    {
     "data": {
      "text/html": [
       "<div>\n",
       "<style scoped>\n",
       "    .dataframe tbody tr th:only-of-type {\n",
       "        vertical-align: middle;\n",
       "    }\n",
       "\n",
       "    .dataframe tbody tr th {\n",
       "        vertical-align: top;\n",
       "    }\n",
       "\n",
       "    .dataframe thead th {\n",
       "        text-align: right;\n",
       "    }\n",
       "</style>\n",
       "<table border=\"1\" class=\"dataframe\">\n",
       "  <thead>\n",
       "    <tr style=\"text-align: right;\">\n",
       "      <th></th>\n",
       "      <th>buy</th>\n",
       "      <th>cart</th>\n",
       "      <th>fav</th>\n",
       "      <th>pv</th>\n",
       "    </tr>\n",
       "  </thead>\n",
       "  <tbody>\n",
       "    <tr>\n",
       "      <th>0</th>\n",
       "      <td>0</td>\n",
       "      <td>0</td>\n",
       "      <td>0</td>\n",
       "      <td>1</td>\n",
       "    </tr>\n",
       "    <tr>\n",
       "      <th>1</th>\n",
       "      <td>0</td>\n",
       "      <td>0</td>\n",
       "      <td>0</td>\n",
       "      <td>1</td>\n",
       "    </tr>\n",
       "    <tr>\n",
       "      <th>2</th>\n",
       "      <td>0</td>\n",
       "      <td>0</td>\n",
       "      <td>0</td>\n",
       "      <td>1</td>\n",
       "    </tr>\n",
       "    <tr>\n",
       "      <th>3</th>\n",
       "      <td>0</td>\n",
       "      <td>0</td>\n",
       "      <td>0</td>\n",
       "      <td>1</td>\n",
       "    </tr>\n",
       "    <tr>\n",
       "      <th>4</th>\n",
       "      <td>0</td>\n",
       "      <td>0</td>\n",
       "      <td>0</td>\n",
       "      <td>1</td>\n",
       "    </tr>\n",
       "    <tr>\n",
       "      <th>...</th>\n",
       "      <td>...</td>\n",
       "      <td>...</td>\n",
       "      <td>...</td>\n",
       "      <td>...</td>\n",
       "    </tr>\n",
       "    <tr>\n",
       "      <th>999995</th>\n",
       "      <td>0</td>\n",
       "      <td>1</td>\n",
       "      <td>0</td>\n",
       "      <td>0</td>\n",
       "    </tr>\n",
       "    <tr>\n",
       "      <th>999996</th>\n",
       "      <td>0</td>\n",
       "      <td>1</td>\n",
       "      <td>0</td>\n",
       "      <td>0</td>\n",
       "    </tr>\n",
       "    <tr>\n",
       "      <th>999997</th>\n",
       "      <td>0</td>\n",
       "      <td>1</td>\n",
       "      <td>0</td>\n",
       "      <td>0</td>\n",
       "    </tr>\n",
       "    <tr>\n",
       "      <th>999998</th>\n",
       "      <td>0</td>\n",
       "      <td>0</td>\n",
       "      <td>0</td>\n",
       "      <td>1</td>\n",
       "    </tr>\n",
       "    <tr>\n",
       "      <th>999999</th>\n",
       "      <td>0</td>\n",
       "      <td>1</td>\n",
       "      <td>0</td>\n",
       "      <td>0</td>\n",
       "    </tr>\n",
       "  </tbody>\n",
       "</table>\n",
       "<p>1000000 rows × 4 columns</p>\n",
       "</div>"
      ],
      "text/plain": [
       "        buy  cart  fav  pv\n",
       "0         0     0    0   1\n",
       "1         0     0    0   1\n",
       "2         0     0    0   1\n",
       "3         0     0    0   1\n",
       "4         0     0    0   1\n",
       "...     ...   ...  ...  ..\n",
       "999995    0     1    0   0\n",
       "999996    0     1    0   0\n",
       "999997    0     1    0   0\n",
       "999998    0     0    0   1\n",
       "999999    0     1    0   0\n",
       "\n",
       "[1000000 rows x 4 columns]"
      ]
     },
     "execution_count": 31,
     "metadata": {},
     "output_type": "execute_result"
    }
   ],
   "source": [
    "# 数据读取\n",
    "file_path =r\"./data_1000000.csv\"\n",
    "df_left=pd.read_csv(file_path,index_col=None)\n",
    "df_left.columns = ['用户ID','商品ID','商品类目ID','行为类型','时间戳']\n",
    "df_left\n",
    "df_right=pd.get_dummies(df_left['行为类型'])\n",
    "df_right"
   ]
  },
  {
   "cell_type": "code",
   "execution_count": 32,
   "metadata": {},
   "outputs": [],
   "source": [
    "df_left=df_left.reset_index()\n",
    "df_right=df_right.reset_index()"
   ]
  },
  {
   "cell_type": "code",
   "execution_count": 33,
   "metadata": {},
   "outputs": [
    {
     "data": {
      "text/html": [
       "<div>\n",
       "<style scoped>\n",
       "    .dataframe tbody tr th:only-of-type {\n",
       "        vertical-align: middle;\n",
       "    }\n",
       "\n",
       "    .dataframe tbody tr th {\n",
       "        vertical-align: top;\n",
       "    }\n",
       "\n",
       "    .dataframe thead th {\n",
       "        text-align: right;\n",
       "    }\n",
       "</style>\n",
       "<table border=\"1\" class=\"dataframe\">\n",
       "  <thead>\n",
       "    <tr style=\"text-align: right;\">\n",
       "      <th></th>\n",
       "      <th>index</th>\n",
       "      <th>用户ID</th>\n",
       "      <th>商品ID</th>\n",
       "      <th>商品类目ID</th>\n",
       "      <th>行为类型</th>\n",
       "      <th>时间戳</th>\n",
       "      <th>index</th>\n",
       "      <th>buy</th>\n",
       "      <th>cart</th>\n",
       "      <th>fav</th>\n",
       "      <th>pv</th>\n",
       "    </tr>\n",
       "  </thead>\n",
       "  <tbody>\n",
       "    <tr>\n",
       "      <th>0</th>\n",
       "      <td>0</td>\n",
       "      <td>1</td>\n",
       "      <td>2268318</td>\n",
       "      <td>2520377</td>\n",
       "      <td>pv</td>\n",
       "      <td>1511544070</td>\n",
       "      <td>0</td>\n",
       "      <td>0</td>\n",
       "      <td>0</td>\n",
       "      <td>0</td>\n",
       "      <td>1</td>\n",
       "    </tr>\n",
       "    <tr>\n",
       "      <th>1</th>\n",
       "      <td>1</td>\n",
       "      <td>1</td>\n",
       "      <td>2333346</td>\n",
       "      <td>2520771</td>\n",
       "      <td>pv</td>\n",
       "      <td>1511561733</td>\n",
       "      <td>1</td>\n",
       "      <td>0</td>\n",
       "      <td>0</td>\n",
       "      <td>0</td>\n",
       "      <td>1</td>\n",
       "    </tr>\n",
       "    <tr>\n",
       "      <th>2</th>\n",
       "      <td>2</td>\n",
       "      <td>1</td>\n",
       "      <td>2576651</td>\n",
       "      <td>149192</td>\n",
       "      <td>pv</td>\n",
       "      <td>1511572885</td>\n",
       "      <td>2</td>\n",
       "      <td>0</td>\n",
       "      <td>0</td>\n",
       "      <td>0</td>\n",
       "      <td>1</td>\n",
       "    </tr>\n",
       "    <tr>\n",
       "      <th>3</th>\n",
       "      <td>3</td>\n",
       "      <td>1</td>\n",
       "      <td>3830808</td>\n",
       "      <td>4181361</td>\n",
       "      <td>pv</td>\n",
       "      <td>1511593493</td>\n",
       "      <td>3</td>\n",
       "      <td>0</td>\n",
       "      <td>0</td>\n",
       "      <td>0</td>\n",
       "      <td>1</td>\n",
       "    </tr>\n",
       "    <tr>\n",
       "      <th>4</th>\n",
       "      <td>4</td>\n",
       "      <td>1</td>\n",
       "      <td>4365585</td>\n",
       "      <td>2520377</td>\n",
       "      <td>pv</td>\n",
       "      <td>1511596146</td>\n",
       "      <td>4</td>\n",
       "      <td>0</td>\n",
       "      <td>0</td>\n",
       "      <td>0</td>\n",
       "      <td>1</td>\n",
       "    </tr>\n",
       "    <tr>\n",
       "      <th>...</th>\n",
       "      <td>...</td>\n",
       "      <td>...</td>\n",
       "      <td>...</td>\n",
       "      <td>...</td>\n",
       "      <td>...</td>\n",
       "      <td>...</td>\n",
       "      <td>...</td>\n",
       "      <td>...</td>\n",
       "      <td>...</td>\n",
       "      <td>...</td>\n",
       "      <td>...</td>\n",
       "    </tr>\n",
       "    <tr>\n",
       "      <th>999995</th>\n",
       "      <td>999995</td>\n",
       "      <td>128600</td>\n",
       "      <td>1729257</td>\n",
       "      <td>2640118</td>\n",
       "      <td>cart</td>\n",
       "      <td>1511826553</td>\n",
       "      <td>999995</td>\n",
       "      <td>0</td>\n",
       "      <td>1</td>\n",
       "      <td>0</td>\n",
       "      <td>0</td>\n",
       "    </tr>\n",
       "    <tr>\n",
       "      <th>999996</th>\n",
       "      <td>999996</td>\n",
       "      <td>128600</td>\n",
       "      <td>4935668</td>\n",
       "      <td>2640118</td>\n",
       "      <td>cart</td>\n",
       "      <td>1511826588</td>\n",
       "      <td>999996</td>\n",
       "      <td>0</td>\n",
       "      <td>1</td>\n",
       "      <td>0</td>\n",
       "      <td>0</td>\n",
       "    </tr>\n",
       "    <tr>\n",
       "      <th>999997</th>\n",
       "      <td>999997</td>\n",
       "      <td>128600</td>\n",
       "      <td>3175221</td>\n",
       "      <td>2640118</td>\n",
       "      <td>cart</td>\n",
       "      <td>1511826676</td>\n",
       "      <td>999997</td>\n",
       "      <td>0</td>\n",
       "      <td>1</td>\n",
       "      <td>0</td>\n",
       "      <td>0</td>\n",
       "    </tr>\n",
       "    <tr>\n",
       "      <th>999998</th>\n",
       "      <td>999998</td>\n",
       "      <td>128600</td>\n",
       "      <td>3840425</td>\n",
       "      <td>2640118</td>\n",
       "      <td>pv</td>\n",
       "      <td>1511826695</td>\n",
       "      <td>999998</td>\n",
       "      <td>0</td>\n",
       "      <td>0</td>\n",
       "      <td>0</td>\n",
       "      <td>1</td>\n",
       "    </tr>\n",
       "    <tr>\n",
       "      <th>999999</th>\n",
       "      <td>999999</td>\n",
       "      <td>128600</td>\n",
       "      <td>2495970</td>\n",
       "      <td>2640118</td>\n",
       "      <td>cart</td>\n",
       "      <td>1511826739</td>\n",
       "      <td>999999</td>\n",
       "      <td>0</td>\n",
       "      <td>1</td>\n",
       "      <td>0</td>\n",
       "      <td>0</td>\n",
       "    </tr>\n",
       "  </tbody>\n",
       "</table>\n",
       "<p>1000000 rows × 11 columns</p>\n",
       "</div>"
      ],
      "text/plain": [
       "         index    用户ID     商品ID   商品类目ID  行为类型         时间戳   index  buy  cart  \\\n",
       "0            0       1  2268318  2520377    pv  1511544070       0    0     0   \n",
       "1            1       1  2333346  2520771    pv  1511561733       1    0     0   \n",
       "2            2       1  2576651   149192    pv  1511572885       2    0     0   \n",
       "3            3       1  3830808  4181361    pv  1511593493       3    0     0   \n",
       "4            4       1  4365585  2520377    pv  1511596146       4    0     0   \n",
       "...        ...     ...      ...      ...   ...         ...     ...  ...   ...   \n",
       "999995  999995  128600  1729257  2640118  cart  1511826553  999995    0     1   \n",
       "999996  999996  128600  4935668  2640118  cart  1511826588  999996    0     1   \n",
       "999997  999997  128600  3175221  2640118  cart  1511826676  999997    0     1   \n",
       "999998  999998  128600  3840425  2640118    pv  1511826695  999998    0     0   \n",
       "999999  999999  128600  2495970  2640118  cart  1511826739  999999    0     1   \n",
       "\n",
       "        fav  pv  \n",
       "0         0   1  \n",
       "1         0   1  \n",
       "2         0   1  \n",
       "3         0   1  \n",
       "4         0   1  \n",
       "...     ...  ..  \n",
       "999995    0   0  \n",
       "999996    0   0  \n",
       "999997    0   0  \n",
       "999998    0   1  \n",
       "999999    0   0  \n",
       "\n",
       "[1000000 rows x 11 columns]"
      ]
     },
     "execution_count": 33,
     "metadata": {},
     "output_type": "execute_result"
    }
   ],
   "source": [
    "df = pd.concat([df_left,df_right],axis=1,join='outer')\n",
    "df"
   ]
  },
  {
   "cell_type": "code",
   "execution_count": 2,
   "metadata": {},
   "outputs": [
    {
     "ename": "NameError",
     "evalue": "name 'df' is not defined",
     "output_type": "error",
     "traceback": [
      "\u001b[1;31m---------------------------------------------------------------------------\u001b[0m",
      "\u001b[1;31mNameError\u001b[0m                                 Traceback (most recent call last)",
      "Input \u001b[1;32mIn [2]\u001b[0m, in \u001b[0;36m<cell line: 1>\u001b[1;34m()\u001b[0m\n\u001b[1;32m----> 1\u001b[0m grouped\u001b[38;5;241m=\u001b[39m\u001b[43mdf\u001b[49m\u001b[38;5;241m.\u001b[39mgroupby([\u001b[38;5;124m'\u001b[39m\u001b[38;5;124m用户ID\u001b[39m\u001b[38;5;124m'\u001b[39m,\u001b[38;5;124m'\u001b[39m\u001b[38;5;124m商品ID\u001b[39m\u001b[38;5;124m'\u001b[39m])\n\u001b[0;32m      2\u001b[0m a\u001b[38;5;241m=\u001b[39mgrouped\u001b[38;5;241m.\u001b[39magg({\u001b[38;5;124m'\u001b[39m\u001b[38;5;124mpv\u001b[39m\u001b[38;5;124m'\u001b[39m: [np\u001b[38;5;241m.\u001b[39msum], \u001b[38;5;124m'\u001b[39m\u001b[38;5;124mfav\u001b[39m\u001b[38;5;124m'\u001b[39m: [np\u001b[38;5;241m.\u001b[39msum], \u001b[38;5;124m'\u001b[39m\u001b[38;5;124mcart\u001b[39m\u001b[38;5;124m'\u001b[39m: [np\u001b[38;5;241m.\u001b[39msum], \u001b[38;5;124m'\u001b[39m\u001b[38;5;124mbuy\u001b[39m\u001b[38;5;124m'\u001b[39m: [np\u001b[38;5;241m.\u001b[39msum]})\n\u001b[0;32m      3\u001b[0m a\u001b[38;5;241m.\u001b[39mcolumns \u001b[38;5;241m=\u001b[39m [\u001b[38;5;124m'\u001b[39m\u001b[38;5;124m点击\u001b[39m\u001b[38;5;124m'\u001b[39m,\u001b[38;5;124m'\u001b[39m\u001b[38;5;124m收藏\u001b[39m\u001b[38;5;124m'\u001b[39m,\u001b[38;5;124m'\u001b[39m\u001b[38;5;124m加购\u001b[39m\u001b[38;5;124m'\u001b[39m,\u001b[38;5;124m'\u001b[39m\u001b[38;5;124m购买\u001b[39m\u001b[38;5;124m'\u001b[39m]\n",
      "\u001b[1;31mNameError\u001b[0m: name 'df' is not defined"
     ]
    }
   ],
   "source": [
    "grouped=df.groupby(['用户ID','商品ID'])\n",
    "a=grouped.agg({'pv': [np.sum], 'fav': [np.sum], 'cart': [np.sum], 'buy': [np.sum]})\n",
    "a.columns = ['点击','收藏','加购','购买']\n",
    "a\n",
    "# a.to_csv('商品购物行为表.csv')\n",
    "# print([column for column in a])\n",
    "# a[a[('buy', 'sum')]>0]"
   ]
  },
  {
   "cell_type": "code",
   "execution_count": 43,
   "metadata": {},
   "outputs": [
    {
     "data": {
      "text/html": [
       "<div>\n",
       "<style scoped>\n",
       "    .dataframe tbody tr th:only-of-type {\n",
       "        vertical-align: middle;\n",
       "    }\n",
       "\n",
       "    .dataframe tbody tr th {\n",
       "        vertical-align: top;\n",
       "    }\n",
       "\n",
       "    .dataframe thead th {\n",
       "        text-align: right;\n",
       "    }\n",
       "</style>\n",
       "<table border=\"1\" class=\"dataframe\">\n",
       "  <thead>\n",
       "    <tr style=\"text-align: right;\">\n",
       "      <th></th>\n",
       "      <th>点击量</th>\n",
       "      <th>收藏量</th>\n",
       "      <th>加购量</th>\n",
       "      <th>购买量</th>\n",
       "    </tr>\n",
       "    <tr>\n",
       "      <th>商品ID</th>\n",
       "      <th></th>\n",
       "      <th></th>\n",
       "      <th></th>\n",
       "      <th></th>\n",
       "    </tr>\n",
       "  </thead>\n",
       "  <tbody>\n",
       "    <tr>\n",
       "      <th>81</th>\n",
       "      <td>13</td>\n",
       "      <td>0</td>\n",
       "      <td>1</td>\n",
       "      <td>1</td>\n",
       "    </tr>\n",
       "    <tr>\n",
       "      <th>255</th>\n",
       "      <td>8</td>\n",
       "      <td>0</td>\n",
       "      <td>0</td>\n",
       "      <td>1</td>\n",
       "    </tr>\n",
       "    <tr>\n",
       "      <th>322</th>\n",
       "      <td>8</td>\n",
       "      <td>1</td>\n",
       "      <td>0</td>\n",
       "      <td>3</td>\n",
       "    </tr>\n",
       "    <tr>\n",
       "      <th>1006</th>\n",
       "      <td>1</td>\n",
       "      <td>0</td>\n",
       "      <td>0</td>\n",
       "      <td>1</td>\n",
       "    </tr>\n",
       "    <tr>\n",
       "      <th>1138</th>\n",
       "      <td>7</td>\n",
       "      <td>0</td>\n",
       "      <td>0</td>\n",
       "      <td>2</td>\n",
       "    </tr>\n",
       "    <tr>\n",
       "      <th>...</th>\n",
       "      <td>...</td>\n",
       "      <td>...</td>\n",
       "      <td>...</td>\n",
       "      <td>...</td>\n",
       "    </tr>\n",
       "    <tr>\n",
       "      <th>5161757</th>\n",
       "      <td>3</td>\n",
       "      <td>0</td>\n",
       "      <td>0</td>\n",
       "      <td>1</td>\n",
       "    </tr>\n",
       "    <tr>\n",
       "      <th>5162067</th>\n",
       "      <td>3</td>\n",
       "      <td>0</td>\n",
       "      <td>1</td>\n",
       "      <td>1</td>\n",
       "    </tr>\n",
       "    <tr>\n",
       "      <th>5162667</th>\n",
       "      <td>5</td>\n",
       "      <td>0</td>\n",
       "      <td>0</td>\n",
       "      <td>1</td>\n",
       "    </tr>\n",
       "    <tr>\n",
       "      <th>5162695</th>\n",
       "      <td>8</td>\n",
       "      <td>0</td>\n",
       "      <td>0</td>\n",
       "      <td>1</td>\n",
       "    </tr>\n",
       "    <tr>\n",
       "      <th>5163006</th>\n",
       "      <td>10</td>\n",
       "      <td>0</td>\n",
       "      <td>1</td>\n",
       "      <td>1</td>\n",
       "    </tr>\n",
       "  </tbody>\n",
       "</table>\n",
       "<p>17565 rows × 4 columns</p>\n",
       "</div>"
      ],
      "text/plain": [
       "         点击量  收藏量  加购量  购买量\n",
       "商品ID                       \n",
       "81        13    0    1    1\n",
       "255        8    0    0    1\n",
       "322        8    1    0    3\n",
       "1006       1    0    0    1\n",
       "1138       7    0    0    2\n",
       "...      ...  ...  ...  ...\n",
       "5161757    3    0    0    1\n",
       "5162067    3    0    1    1\n",
       "5162667    5    0    0    1\n",
       "5162695    8    0    0    1\n",
       "5163006   10    0    1    1\n",
       "\n",
       "[17565 rows x 4 columns]"
      ]
     },
     "execution_count": 43,
     "metadata": {},
     "output_type": "execute_result"
    }
   ],
   "source": [
    "grouped2=df.groupby('商品ID')\n",
    "influence=grouped2.agg({'pv': [np.sum], 'fav': [np.sum], 'cart': [np.sum], 'buy': [np.sum]})\n",
    "influence.columns = ['点击量','收藏量','加购量','购买量']\n",
    "influence\n",
    "\n",
    "# a.to_csv('商品购物行为表.csv')\n",
    "# print([column for column in a])\n",
    "influence['点击量'] = influence['点击量'].astype(int)\n",
    "influence[influence['购买量']>0]"
   ]
  },
  {
   "cell_type": "markdown",
   "metadata": {},
   "source": []
  }
 ],
 "metadata": {
  "kernelspec": {
   "display_name": "Python 3 (ipykernel)",
   "language": "python",
   "name": "python3"
  },
  "language_info": {
   "codemirror_mode": {
    "name": "ipython",
    "version": 3
   },
   "file_extension": ".py",
   "mimetype": "text/x-python",
   "name": "python",
   "nbconvert_exporter": "python",
   "pygments_lexer": "ipython3",
   "version": "3.9.12"
  },
  "tianchi_metadata": {
   "competitions": [],
   "datasets": [
    {
     "id": "649",
     "title": "淘宝用户购物行为数据集"
    }
   ],
   "description": "",
   "notebookId": "406181",
   "source": "dsw"
  }
 },
 "nbformat": 4,
 "nbformat_minor": 4
}
